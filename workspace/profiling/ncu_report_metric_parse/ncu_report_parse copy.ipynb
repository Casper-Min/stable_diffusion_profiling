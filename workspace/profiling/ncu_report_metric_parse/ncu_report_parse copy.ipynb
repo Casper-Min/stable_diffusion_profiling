{
 "cells": [
  {
   "cell_type": "code",
   "execution_count": 1,
   "metadata": {},
   "outputs": [],
   "source": [
    "import site\n",
    "site.addsitedir(\"/opt/nvidia/nsight-compute/2023.1.1/extras/python\")\n",
    "site.addsitedir(\"/opt/nvidia/nsight-compute/2023.1.1/sections\")"
   ]
  },
  {
   "cell_type": "code",
   "execution_count": 2,
   "metadata": {},
   "outputs": [],
   "source": [
    "import ncu_report\n",
    "from ncu_report import IMetric\n",
    "import pprint"
   ]
  },
  {
   "cell_type": "code",
   "execution_count": 3,
   "metadata": {},
   "outputs": [],
   "source": [
    "report = ncu_report.load_report(f\"A100_only_attention_prompt1_iter1_step5_replay_kernel_huggingface/A100_only_attention_prompt1_iter1_step5_replay_kernel_huggingface.ncu-rep\")"
   ]
  },
  {
   "cell_type": "code",
   "execution_count": 4,
   "metadata": {},
   "outputs": [],
   "source": [
    "kernels = report[0]\n",
    "metric_kernel = kernels[0]\n",
    "metrics = [metric_kernel[name] for name in metric_kernel]"
   ]
  },
  {
   "cell_type": "code",
   "execution_count": 5,
   "metadata": {},
   "outputs": [],
   "source": [
    "# yes_list = [(\"1_Qu\",\"2_Ke\",\"3_Va\"),(\"5-1_MatMul_Query_Key_Then_Scale\"),(\"5-2_Softmax_score\"),(\"5-3_MatMul_Softmax_Value\"),(\"7_Out_Linear\"),(\"1_Projection\"),(\"Linear\"),(\"1_Q\",\"2_K\",\"3_V\",\"5-1_MatMul_Query_Key_Then_Scale\", \"5-2_Softmax_score\",\"5-3_MatMul_Softmax_Value\",\"7_Out_Linear\",\"1_Projection\",\"Linear\")]\n",
    "# yes_list = [(\"1_Qu\",\"2_Ke\",\"3_Va\"),(\"5-1_MatMul_Query_Key_Then_Scale\"),(\"5-2_Softmax_score\"),(\"5-3_MatMul_Softmax_Value\"),(\"7_Out_Linear\"),(\"1_Projection\"),(\"Linear\")]\n",
    "# yes_list = [(\"1_Q\",\"2_K\",\"3_V\",\"5-1_MatMul_Query_Key_Then_Scale\", \"5-2_Softmax_score\",\"5-3_MatMul_Softmax_Value\",\"7_Out_Linear\",\"1_Projection\",\"Linear\")]\n",
    "# yes_list = (\"1_Q\",\"2_K\",\"3_V\",\"5-1_MatMul_Query_Key_Then_Scale\", \"5-2_Softmax_score\",\"5-3_MatMul_Softmax_Value\",\"7_Out_Linear\",\"1_Projection\",\"Linear\")\n",
    "yes_list = (\"1_Q\",\"2_K\",\"3_V\",\"5-1_MatMul_Query_Key_Then_Scale\",\"5-2_Softmax\",\"5-3_MatMul_Softmax_Value\",\"7_Out_Linear\",\"1_GEGLU\",\"Linear_\")\n",
    "no_list = (\"splitKreduce_kernel\")"
   ]
  },
  {
   "cell_type": "code",
   "execution_count": 6,
   "metadata": {},
   "outputs": [
    {
     "name": "stdout",
     "output_type": "stream",
     "text": [
      "ampere_sgemm_128x128_tn\n"
     ]
    }
   ],
   "source": [
    "kernel = kernels[13]\n",
    "print(kernel.name())"
   ]
  },
  {
   "cell_type": "code",
   "execution_count": 7,
   "metadata": {},
   "outputs": [
    {
     "name": "stdout",
     "output_type": "stream",
     "text": [
      "ncu_prof nsys_prof\n"
     ]
    }
   ],
   "source": [
    "nvtx_info = kernel.nvtx_state()\n",
    "print(nvtx_info[1],nvtx_info[2]) # nvtx_info[0] : default domain, nvtx_info[1] : ncu_prof, nvtx_info[2] : nsys_prof\n",
    "nvtx_domain_ncu_prof = kernel.nvtx_state()[1]\n",
    "nvtx_domain_nsys_prof = kernel.nvtx_state()[2]"
   ]
  },
  {
   "cell_type": "code",
   "execution_count": 8,
   "metadata": {},
   "outputs": [
    {
     "name": "stdout",
     "output_type": "stream",
     "text": [
      "('denoising network', 'denoising_step_2', 'noise_prediction_2', 'U-Net', 'contracting_path', '1_CrossAttnDownBlock2D_input_NCHW_2_320_64_64_embedding_2_77_768', 'Transformer2DModel_head(num/dim)8/40_ch(in/out)320/320', 'transformer_computation', 'transformer_BasicTransformerBlock', '2_self_attn_Attention', '5_Scaled Dot Product Attention_Q16_4096_40_K16_4096_40', '5-1_MatMul_Query_Key_Then_Scale_Q16_4096_40_KT16_40_4096')\n",
      "('denoiser_step_2', 'unet_block_1', 'attn_block_2')\n"
     ]
    }
   ],
   "source": [
    "print(nvtx_domain_nsys_prof.push_pop_ranges())\n",
    "print(nvtx_domain_ncu_prof.start_end_ranges())"
   ]
  },
  {
   "cell_type": "code",
   "execution_count": 9,
   "metadata": {},
   "outputs": [
    {
     "name": "stdout",
     "output_type": "stream",
     "text": [
      "unet_block_1 1_Query_Linear_2_4096_320_out_320 ampere_sgemm_32x128_tn 139.8 1.7E+09 11.0 12.1 78.4 81.8 80.1\n",
      "unet_block_1 2_Key_Linear_2_4096_320_out_320 ampere_sgemm_32x128_tn 141.6 1.7E+09 11.0 11.9 78.0 82.0 80.2\n",
      "unet_block_1 3_Value_Linear_2_4096_320_out_320 ampere_sgemm_32x128_tn 140.0 1.7E+09 11.0 12.1 78.6 82.0 80.2\n",
      "unet_block_1 5-1_MatMul_Query_Key_Then_Scale_Q16_4096_40_KT16_40_4096 ampere_sgemm_128x128_tn 1801.4 2.2E+10 1074.8 12.1 596.6 81.4 48.5\n",
      "unet_block_1 5-2_Softmax_score_16_4096_4096 cunn_SoftMaxForward 1761.8 8.9E+09 2130.9 5.0 1209.5 60.5 32.3\n",
      "unet_block_1 5-3_MatMul_Softmax_Value_SM16_4096_4096_V16_4096_40 ampere_sgemm_128x128_nn 4940.0 6.9E+10 1107.2 13.9 224.1 93.1 33.8\n",
      "unet_block_1 7_Out_Linear_Projection_input2_4096_320 ampere_sgemm_32x128_tn 171.2 1.7E+09 10.9 9.8 63.7 70.7 66.4\n",
      "unet_block_1 1_Query_Linear_2_4096_320_out_320 ampere_sgemm_32x128_tn 141.6 1.7E+09 11.1 11.9 78.3 82.2 80.4\n",
      "unet_block_1 2_Key_Linear_2_77_768_out_320 ampere_sgemm_32x32_sliced1x4_tn 19.0 8.0E+07 1.5 4.2 76.6 31.3 38.9\n",
      "unet_block_1 3_Value_Linear_2_77_768_out_320 ampere_sgemm_32x32_sliced1x4_tn 18.9 8.0E+07 1.5 4.2 77.0 31.5 39.1\n",
      "unet_block_1 5-1_MatMul_Query_Key_Then_Scale_Q16_4096_40_KT16_40_77 ampere_sgemm_128x128_tn 69.7 6.8E+08 12.0 9.8 171.7 68.1 39.7\n",
      "unet_block_1 5-2_Softmax_score_16_4096_77 softmax_warp_forward 35.5 1.6E+08 25.9 4.6 729.9 69.7 39.4\n",
      "unet_block_1 5-3_MatMul_Softmax_Value_SM16_4096_77_V16_77_40 ampere_sgemm_128x128_nn 113.9 1.4E+09 20.5 11.9 179.9 80.2 38.9\n",
      "unet_block_1 7_Out_Linear_Projection_input2_4096_320 ampere_sgemm_32x128_tn 168.4 1.7E+09 10.9 10.0 64.8 69.7 65.5\n",
      "unet_block_1 1_GEGLU_Linear_IO_320_2560 ampere_sgemm_128x64_tn 944.7 1.3E+10 77.7 14.3 82.3 95.0 50.3\n",
      "unet_block_1 Linear_1280_320 ampere_sgemm_32x128_tn 536.6 6.7E+09 49.7 12.5 92.7 83.6 75.8\n",
      "unet_block_2 1_Query_Linear_2_1024_640_out_640 ampere_sgemm_128x64_tn 131.9 1.7E+09 6.9 12.8 52.2 86.4 49.0\n",
      "unet_block_2 2_Key_Linear_2_1024_640_out_640 ampere_sgemm_128x64_tn 132.6 1.7E+09 6.9 12.8 51.9 86.3 48.9\n",
      "unet_block_2 3_Value_Linear_2_1024_640_out_640 ampere_sgemm_128x64_tn 132.4 1.7E+09 6.9 12.8 52.0 86.5 49.0\n",
      "unet_block_2 5-1_MatMul_Query_Key_Then_Scale_Q16_1024_80_KT16_80_1024 ampere_sgemm_128x128_tn 222.5 2.7E+09 57.7 12.1 259.1 82.0 40.9\n",
      "unet_block_2 5-2_Softmax_score_16_1024_1024 softmax_warp_forward 94.8 3.7E+08 114.8 3.9 1210.7 45.0 36.2\n",
      "unet_block_2 5-3_MatMul_Softmax_Value_SM16_1024_1024_V16_1024_80 ampere_sgemm_128x128_nn 505.3 4.3E+09 72.6 8.5 143.8 57.2 21.2\n",
      "unet_block_2 7_Out_Linear_Projection_input2_1024_640 ampere_sgemm_32x128_tn 142.8 1.7E+09 6.9 11.8 48.2 76.9 70.5\n",
      "unet_block_2 1_Query_Linear_2_1024_640_out_640 ampere_sgemm_128x64_tn 133.9 1.7E+09 6.9 12.6 51.4 86.5 49.0\n",
      "unet_block_2 2_Key_Linear_2_77_768_out_640 ampere_sgemm_32x32_sliced1x4_tn 26.2 1.6E+08 2.4 6.1 93.0 44.8 56.1\n",
      "unet_block_2 3_Value_Linear_2_77_768_out_640 ampere_sgemm_32x32_sliced1x4_tn 26.4 1.6E+08 2.4 6.1 92.5 44.6 55.8\n",
      "unet_block_2 5-1_MatMul_Query_Key_Then_Scale_Q16_1024_80_KT16_80_77 ampere_sgemm_128x128_tn 50.9 3.4E+08 5.6 6.6 110.7 45.8 22.2\n",
      "unet_block_2 5-2_Softmax_score_16_1024_77 softmax_warp_forward 13.9 4.0E+07 5.0 2.9 362.5 47.2 25.9\n",
      "unet_block_2 5-3_MatMul_Softmax_Value_SM16_1024_77_V16_77_80 ampere_sgemm_128x128_nn 51.2 3.4E+08 5.4 6.6 106.3 45.4 22.0\n",
      "unet_block_2 7_Out_Linear_Projection_input2_1024_640 ampere_sgemm_32x128_tn 144.4 1.7E+09 6.9 11.6 47.7 78.8 72.3\n",
      "unet_block_2 1_GEGLU_Linear_IO_640_5120 ampere_sgemm_128x64_tn 956.6 1.3E+10 50.1 14.1 52.4 95.0 48.3\n",
      "unet_block_2 Linear_2560_640 ampere_sgemm_32x128_tn 526.9 6.7E+09 28.2 12.7 53.5 85.4 77.0\n",
      "unet_block_3 1_Query_Linear_2_256_1280_out_1280 ampere_sgemm_32x128_tn 138.8 1.7E+09 9.2 12.1 66.1 81.9 77.0\n",
      "unet_block_3 2_Key_Linear_2_256_1280_out_1280 ampere_sgemm_32x128_tn 139.5 1.7E+09 9.2 12.1 65.8 82.1 77.1\n",
      "unet_block_3 3_Value_Linear_2_256_1280_out_1280 ampere_sgemm_32x128_tn 138.1 1.7E+09 9.2 12.2 66.4 82.1 77.2\n",
      "unet_block_3 5-1_MatMul_Query_Key_Then_Scale_Q16_256_160_KT16_160_256 ampere_sgemm_128x128_tn 49.3 3.4E+08 5.2 6.8 106.3 47.0 22.1\n",
      "unet_block_3 5-2_Softmax_score_16_256_256 softmax_warp_forward 11.2 2.4E+07 4.2 2.1 374.5 29.2 17.9\n",
      "unet_block_3 5-3_MatMul_Softmax_Value_SM16_256_256_V16_256_160 ampere_sgemm_128x128_nn 71.5 5.4E+08 6.8 7.5 95.3 51.1 20.4\n",
      "unet_block_3 7_Out_Linear_Projection_input2_256_1280 ampere_sgemm_32x32_sliced1x4_tn 165.5 1.7E+09 9.2 10.2 55.5 67.7 71.6\n",
      "unet_block_3 1_Query_Linear_2_256_1280_out_1280 ampere_sgemm_32x128_tn 138.7 1.7E+09 9.2 12.1 66.1 81.6 76.7\n",
      "unet_block_3 2_Key_Linear_2_77_768_out_1280 ampere_sgemm_32x32_sliced1x4_tn 48.7 3.2E+08 4.4 6.5 90.5 44.7 47.7\n",
      "unet_block_3 3_Value_Linear_2_77_768_out_1280 ampere_sgemm_32x32_sliced1x4_tn 48.8 3.2E+08 4.4 6.5 90.2 44.7 47.8\n",
      "unet_block_3 5-1_MatMul_Query_Key_Then_Scale_Q16_256_160_KT16_160_77 ampere_sgemm_128x128_tn 48.4 1.7E+08 3.4 3.5 70.5 23.8 10.7\n",
      "unet_block_3 5-2_Softmax_score_16_256_77 softmax_warp_forward 8.1 1.0E+07 1.3 1.3 156.5 23.0 11.9\n",
      "unet_block_3 5-3_MatMul_Softmax_Value_SM16_256_77_V16_77_160 ampere_sgemm_128x128_nn 30.2 1.7E+08 2.1 5.6 67.9 39.2 18.9\n",
      "unet_block_3 7_Out_Linear_Projection_input2_256_1280 ampere_sgemm_32x32_sliced1x4_tn 165.4 1.7E+09 9.2 10.2 55.5 67.9 71.8\n",
      "unet_block_3 1_GEGLU_Linear_IO_1280_10240 ampere_sgemm_128x64_tn 958.3 1.3E+10 74.4 14.0 77.7 94.3 46.9\n",
      "unet_block_3 Linear_5120_1280 ampere_sgemm_64x32_sliced1x4_tn 594.9 6.7E+09 81.9 11.3 137.6 75.8 64.8\n",
      "unet_block_5 1_Query_Linear_2_64_1280_out_1280 ampere_sgemm_32x32_sliced1x4_tn 52.7 4.2E+08 7.2 8.0 136.7 56.0 60.6\n",
      "unet_block_5 2_Key_Linear_2_64_1280_out_1280 ampere_sgemm_32x32_sliced1x4_tn 52.1 4.2E+08 7.2 8.1 138.4 56.0 60.5\n",
      "unet_block_5 3_Value_Linear_2_64_1280_out_1280 ampere_sgemm_32x32_sliced1x4_tn 54.4 4.2E+08 7.2 7.8 132.6 55.0 59.5\n",
      "unet_block_5 5-1_MatMul_Query_Key_Then_Scale_Q16_64_160_KT16_160_64 ampere_sgemm_128x128_tn 47.6 8.4E+07 1.3 1.8 27.5 12.0 5.1\n",
      "unet_block_5 5-2_Softmax_score_16_64_64 softmax_warp_forward 5.9 1.6E+06 0.3 0.3 44.5 5.4 3.1\n",
      "unet_block_5 5-3_MatMul_Softmax_Value_SM16_64_64_V16_64_160 ampere_sgemm_128x128_nn 25.1 6.8E+07 0.9 2.7 36.6 19.3 9.5\n",
      "unet_block_5 7_Out_Linear_Projection_input2_64_1280 ampere_sgemm_64x32_sliced1x4_tn 66.9 4.2E+08 7.2 6.3 107.9 42.9 37.8\n",
      "unet_block_5 1_Query_Linear_2_64_1280_out_1280 ampere_sgemm_32x32_sliced1x4_tn 52.1 4.2E+08 7.2 8.1 138.4 55.6 60.1\n",
      "unet_block_5 2_Key_Linear_2_77_768_out_1280 ampere_sgemm_32x32_sliced1x4_tn 48.4 3.2E+08 4.4 6.5 91.1 44.8 47.9\n",
      "unet_block_5 3_Value_Linear_2_77_768_out_1280 ampere_sgemm_32x32_sliced1x4_tn 48.7 3.2E+08 4.4 6.5 90.5 44.6 47.7\n",
      "unet_block_5 5-1_MatMul_Query_Key_Then_Scale_Q16_64_160_KT16_160_77 ampere_sgemm_128x128_tn 47.7 8.4E+07 1.4 1.8 30.3 12.0 5.1\n",
      "unet_block_5 5-2_Softmax_score_16_64_77 softmax_warp_forward 6.6 2.5E+06 0.3 0.4 48.1 7.2 4.0\n",
      "unet_block_5 5-3_MatMul_Softmax_Value_SM16_64_77_V16_77_160 ampere_sgemm_128x128_nn 29.3 8.4E+07 1.1 2.9 37.6 20.1 9.3\n",
      "unet_block_5 7_Out_Linear_Projection_input2_64_1280 ampere_sgemm_64x32_sliced1x4_tn 66.9 4.2E+08 7.2 6.3 107.8 43.6 38.4\n",
      "unet_block_5 1_GEGLU_Linear_IO_1280_10240 ampere_sgemm_128x32_tn 284.6 3.4E+09 128.2 11.8 450.3 79.5 72.2\n",
      "unet_block_5 Linear_5120_1280 ampere_sgemm_64x32_sliced1x4_tn 238.1 1.7E+09 28.8 7.1 121.1 47.3 40.5\n",
      "unet_block_7 1_Query_Linear_2_256_1280_out_1280 ampere_sgemm_32x128_tn 139.3 1.7E+09 9.2 12.1 65.9 82.2 77.3\n",
      "unet_block_7 2_Key_Linear_2_256_1280_out_1280 ampere_sgemm_32x128_tn 138.9 1.7E+09 9.2 12.1 66.1 82.1 77.2\n",
      "unet_block_7 3_Value_Linear_2_256_1280_out_1280 ampere_sgemm_32x128_tn 140.3 1.7E+09 9.2 12.0 65.4 82.3 77.3\n",
      "unet_block_7 5-1_MatMul_Query_Key_Then_Scale_Q16_256_160_KT16_160_256 ampere_sgemm_128x128_tn 49.3 3.4E+08 5.2 6.8 106.4 47.1 22.1\n",
      "unet_block_7 5-2_Softmax_score_16_256_256 softmax_warp_forward 11.3 2.4E+07 4.2 2.1 371.3 29.1 17.5\n",
      "unet_block_7 5-3_MatMul_Softmax_Value_SM16_256_256_V16_256_160 ampere_sgemm_128x128_nn 71.5 5.4E+08 6.8 7.5 95.3 51.1 20.4\n",
      "unet_block_7 7_Out_Linear_Projection_input2_256_1280 ampere_sgemm_32x32_sliced1x4_tn 165.8 1.7E+09 9.2 10.2 55.4 68.3 72.2\n",
      "unet_block_7 1_Query_Linear_2_256_1280_out_1280 ampere_sgemm_32x128_tn 138.2 1.7E+09 9.2 12.2 66.4 82.2 77.3\n",
      "unet_block_7 2_Key_Linear_2_77_768_out_1280 ampere_sgemm_32x32_sliced1x4_tn 48.8 3.2E+08 4.4 6.5 90.3 44.6 47.6\n",
      "unet_block_7 3_Value_Linear_2_77_768_out_1280 ampere_sgemm_32x32_sliced1x4_tn 48.6 3.2E+08 4.4 6.5 90.6 44.7 47.8\n",
      "unet_block_7 5-1_MatMul_Query_Key_Then_Scale_Q16_256_160_KT16_160_77 ampere_sgemm_128x128_tn 48.5 1.7E+08 3.4 3.5 70.3 23.8 10.8\n",
      "unet_block_7 5-2_Softmax_score_16_256_77 softmax_warp_forward 8.0 1.0E+07 1.3 1.3 157.1 23.1 11.9\n",
      "unet_block_7 5-3_MatMul_Softmax_Value_SM16_256_77_V16_77_160 ampere_sgemm_128x128_nn 30.1 1.7E+08 2.1 5.6 68.2 39.0 18.8\n",
      "unet_block_7 7_Out_Linear_Projection_input2_256_1280 ampere_sgemm_32x32_sliced1x4_tn 166.7 1.7E+09 9.2 10.1 55.1 67.6 71.5\n",
      "unet_block_7 1_GEGLU_Linear_IO_1280_10240 ampere_sgemm_128x64_tn 958.0 1.3E+10 74.7 14.0 77.9 94.2 46.9\n",
      "unet_block_7 Linear_5120_1280 ampere_sgemm_64x32_sliced1x4_tn 594.4 6.7E+09 82.7 11.3 139.1 75.6 64.7\n",
      "unet_block_8 1_Query_Linear_2_1024_640_out_640 ampere_sgemm_128x64_tn 132.0 1.7E+09 6.9 12.8 52.1 86.3 48.9\n",
      "unet_block_8 2_Key_Linear_2_1024_640_out_640 ampere_sgemm_128x64_tn 132.3 1.7E+09 6.9 12.8 52.0 86.5 49.0\n",
      "unet_block_8 3_Value_Linear_2_1024_640_out_640 ampere_sgemm_128x64_tn 132.3 1.7E+09 6.9 12.8 52.0 86.5 49.0\n",
      "unet_block_8 5-1_MatMul_Query_Key_Then_Scale_Q16_1024_80_KT16_80_1024 ampere_sgemm_128x128_tn 222.7 2.7E+09 57.6 12.1 258.7 82.1 41.0\n",
      "unet_block_8 5-2_Softmax_score_16_1024_1024 softmax_warp_forward 92.8 3.7E+08 114.7 4.0 1236.0 45.3 36.5\n",
      "unet_block_8 5-3_MatMul_Softmax_Value_SM16_1024_1024_V16_1024_80 ampere_sgemm_128x128_nn 506.0 4.3E+09 72.7 8.5 143.6 57.2 21.2\n",
      "unet_block_8 7_Out_Linear_Projection_input2_1024_640 ampere_sgemm_32x128_tn 144.1 1.7E+09 6.9 11.7 47.8 78.9 72.4\n",
      "unet_block_8 1_Query_Linear_2_1024_640_out_640 ampere_sgemm_128x64_tn 134.3 1.7E+09 6.9 12.6 51.2 86.4 48.9\n",
      "unet_block_8 2_Key_Linear_2_77_768_out_640 ampere_sgemm_32x32_sliced1x4_tn 26.4 1.6E+08 2.4 6.1 92.4 44.5 55.7\n",
      "unet_block_8 3_Value_Linear_2_77_768_out_640 ampere_sgemm_32x32_sliced1x4_tn 26.5 1.6E+08 2.4 6.0 92.0 44.6 55.9\n",
      "unet_block_8 5-1_MatMul_Query_Key_Then_Scale_Q16_1024_80_KT16_80_77 ampere_sgemm_128x128_tn 50.8 3.4E+08 5.6 6.6 111.0 45.8 22.2\n",
      "unet_block_8 5-2_Softmax_score_16_1024_77 softmax_warp_forward 14.0 4.0E+07 5.0 2.9 361.7 48.4 26.6\n",
      "unet_block_8 5-3_MatMul_Softmax_Value_SM16_1024_77_V16_77_80 ampere_sgemm_128x128_nn 51.3 3.4E+08 5.4 6.6 106.0 45.6 22.1\n",
      "unet_block_8 7_Out_Linear_Projection_input2_1024_640 ampere_sgemm_32x128_tn 146.3 1.7E+09 6.9 11.5 47.0 77.6 71.2\n",
      "unet_block_8 1_GEGLU_Linear_IO_640_5120 ampere_sgemm_128x64_tn 956.0 1.3E+10 50.9 14.1 53.2 95.0 48.3\n",
      "unet_block_8 Linear_2560_640 ampere_sgemm_32x128_tn 527.9 6.7E+09 28.1 12.7 53.2 84.8 76.4\n",
      "unet_block_9 1_Query_Linear_2_4096_320_out_320 ampere_sgemm_32x128_tn 139.9 1.7E+09 11.0 12.1 78.5 82.2 80.4\n",
      "unet_block_9 2_Key_Linear_2_4096_320_out_320 ampere_sgemm_32x128_tn 140.1 1.7E+09 11.0 12.1 78.9 81.8 80.1\n",
      "unet_block_9 3_Value_Linear_2_4096_320_out_320 ampere_sgemm_32x128_tn 141.8 1.7E+09 10.9 11.9 77.0 82.0 80.3\n",
      "unet_block_9 5-1_MatMul_Query_Key_Then_Scale_Q16_4096_40_KT16_40_4096 ampere_sgemm_128x128_tn 1821.3 2.2E+10 1074.8 11.9 590.1 81.5 48.5\n",
      "unet_block_9 5-2_Softmax_score_16_4096_4096 cunn_SoftMaxForward 1746.9 8.9E+09 2130.7 5.1 1219.7 60.4 32.3\n",
      "unet_block_9 5-3_MatMul_Softmax_Value_SM16_4096_4096_V16_4096_40 ampere_sgemm_128x128_nn 4893.0 6.9E+10 1107.0 14.0 226.2 93.0 33.8\n",
      "unet_block_9 7_Out_Linear_Projection_input2_4096_320 ampere_sgemm_32x128_tn 168.0 1.7E+09 10.9 10.0 65.0 70.7 66.5\n",
      "unet_block_9 1_Query_Linear_2_4096_320_out_320 ampere_sgemm_32x128_tn 140.2 1.7E+09 11.0 12.0 78.7 82.0 80.3\n",
      "unet_block_9 2_Key_Linear_2_77_768_out_320 ampere_sgemm_32x32_sliced1x4_tn 19.0 8.0E+07 1.5 4.2 76.6 31.2 38.7\n",
      "unet_block_9 3_Value_Linear_2_77_768_out_320 ampere_sgemm_32x32_sliced1x4_tn 19.4 8.0E+07 1.5 4.1 75.2 31.3 38.9\n",
      "unet_block_9 5-1_MatMul_Query_Key_Then_Scale_Q16_4096_40_KT16_40_77 ampere_sgemm_128x128_tn 69.6 6.8E+08 11.9 9.8 171.7 67.8 39.5\n",
      "unet_block_9 5-2_Softmax_score_16_4096_77 softmax_warp_forward 35.3 1.6E+08 25.9 4.6 733.3 70.5 39.8\n",
      "unet_block_9 5-3_MatMul_Softmax_Value_SM16_4096_77_V16_77_40 ampere_sgemm_128x128_nn 114.2 1.4E+09 20.4 11.8 179.1 80.3 39.0\n",
      "unet_block_9 7_Out_Linear_Projection_input2_4096_320 ampere_sgemm_32x128_tn 187.5 1.7E+09 10.9 9.0 58.2 59.5 55.9\n",
      "unet_block_9 1_GEGLU_Linear_IO_320_2560 ampere_sgemm_128x64_tn 954.8 1.3E+10 77.7 14.1 81.4 95.1 50.3\n",
      "unet_block_9 Linear_1280_320 ampere_sgemm_32x128_tn 527.9 6.7E+09 49.3 12.7 93.3 84.4 76.6\n"
     ]
    }
   ],
   "source": [
    "Execution_Time_t=0\n",
    "Executed_Inst_t=0\n",
    "Total_Traffic_t=0\n",
    "\n",
    "for kernel in kernels:\n",
    "    # range_name = nvtx_info.push_pop_ranges()[6] # 6 Resnet/Transformer Block Level\n",
    "    nvtx_domain_ncu_prof = kernel.nvtx_state()[1]\n",
    "    nvtx_domain_nsys_prof = kernel.nvtx_state()[2]\n",
    "    ncu_range_name = nvtx_domain_ncu_prof.start_end_ranges()[1]\n",
    "    ncu_range_name_1 = nvtx_domain_ncu_prof.start_end_ranges()[-1]\n",
    "    nsys_range_name = nvtx_domain_nsys_prof.push_pop_ranges()[-1]\n",
    "    range_names = [\"unet_block_1\",\"unet_block_2\",\"unet_block_3\",\"unet_block_4\",\"unet_block_5\",\"unet_block_6\",\"unet_block_7\",\"unet_block_8\",\"unet_block_9\"]\n",
    "    if ncu_range_name in range_names:\n",
    "        # print(range_name)\n",
    "        if nsys_range_name.startswith(yes_list) :\n",
    "            if not kernel.name().startswith(no_list) :\n",
    "                Work_Achieved = (kernel[\"smsp__sass_thread_inst_executed_op_fadd_pred_on.sum.per_cycle_elapsed\"].value()\\\n",
    "                                + kernel[\"smsp__sass_thread_inst_executed_op_fmul_pred_on.sum.per_cycle_elapsed\"].value()\\\n",
    "                                + kernel[\"derived__smsp__sass_thread_inst_executed_op_ffma_pred_on_x2\"].value()) \\\n",
    "                                * kernel[\"smsp__cycles_elapsed.avg.per_second\"].value()\n",
    "                Traffic_Achieved = kernel[\"dram__bytes.sum.per_second\"].value()                \n",
    "                inst = kernel[\"thread_inst_executed\"].value()\n",
    "                inst2 = kernel[\"inst_executed\"].value()\n",
    "                Execution_Time = kernel[\"gpu__time_duration.sum\"].value()\n",
    "                Executed_Inst = Work_Achieved * Execution_Time * 0.000000001\n",
    "                Total_Traffic = Traffic_Achieved * Execution_Time * 0.000000001\n",
    "                Execution_Time_t += Execution_Time\n",
    "                Executed_Inst_t += Executed_Inst\n",
    "                Total_Traffic_t += Total_Traffic\n",
    "                \n",
    "                Work_Achieved = Work_Achieved/(1000000000000)\n",
    "                Traffic_Achieved = Traffic_Achieved/(1000000000)\n",
    "                \n",
    "                SM_BUSY = kernel[\"sm__throughput.avg.pct_of_peak_sustained_elapsed\"].value()\n",
    "                MEM_BUSY = kernel[\"gpu__compute_memory_throughput.avg.pct_of_peak_sustained_elapsed\"].value()\n",
    "                # MEM_BUSY = kernel[\"gpu__compute_memory_access_throughput.avg.pct_of_peak_sustained_elapsed\"].value()\n",
    "                \n",
    "                # print(f\"{nsys_range_name} {kernel.name()} {Executed_Inst:.1f} {Total_Traffic/(1000*1000):.2f} , {Execution_Time/1000000}\")\n",
    "                print(f\"{ncu_range_name} {nsys_range_name} {kernel.name()} {Execution_Time/1000:.1f} {Executed_Inst:.1E} {Total_Traffic/(1000*1000):.1f} {Work_Achieved:.1f} {Traffic_Achieved:.1f} {SM_BUSY:.1f} {MEM_BUSY:.1f}\")\n",
    "                # print(f\"{Execution_Time_t:.2E}\")\n",
    "                # print(f\"{Executed_Inst_t:.2E}\")\n",
    "                # print(f\"{Total_Traffic_t:.2E}\")"
   ]
  },
  {
   "cell_type": "code",
   "execution_count": 10,
   "metadata": {},
   "outputs": [],
   "source": [
    "# Execution_Time_t=0\n",
    "# Executed_Inst_t=0\n",
    "# Total_Traffic_t=0\n",
    "\n",
    "# for kernel in kernels:\n",
    "#     # range_name = nvtx_info.push_pop_ranges()[6] # 6 Resnet/Transformer Block Level\n",
    "#     nvtx_domain_ncu_prof = kernel.nvtx_state()[1]\n",
    "#     nvtx_domain_nsys_prof = kernel.nvtx_state()[2]\n",
    "#     ncu_range_name = nvtx_domain_ncu_prof.start_end_ranges()[1]\n",
    "#     nsys_range_name = nvtx_domain_nsys_prof.push_pop_ranges()[-1]\n",
    "#     if ncu_range_name == \"unet_block_1\":\n",
    "#         if nsys_range_name.startswith(yes_list) :\n",
    "#             if not kernel.name().startswith(no_list) :\n",
    "#                 # print(range_name)\n",
    "#                 Work_Achieved = (kernel[\"smsp__sass_thread_inst_executed_op_fadd_pred_on.sum.per_cycle_elapsed\"].value()\\\n",
    "#                                 + kernel[\"smsp__sass_thread_inst_executed_op_fmul_pred_on.sum.per_cycle_elapsed\"].value()\\\n",
    "#                                 + kernel[\"derived__smsp__sass_thread_inst_executed_op_ffma_pred_on_x2\"].value()) \\\n",
    "#                                 * kernel[\"smsp__cycles_elapsed.avg.per_second\"].value()\n",
    "#                 Traffic_Achieved = kernel[\"dram__bytes.sum.per_second\"].value()                \n",
    "#                 inst = kernel[\"thread_inst_executed\"].value()\n",
    "#                 inst2 = kernel[\"inst_executed\"].value()\n",
    "#                 Execution_Time = kernel[\"gpu__time_duration.sum\"].value()\n",
    "#                 Executed_Inst = Work_Achieved * Execution_Time * 0.000000001\n",
    "#                 Total_Traffic = Traffic_Achieved * Execution_Time * 0.000000001\n",
    "#                 Execution_Time_t += Execution_Time\n",
    "#                 Executed_Inst_t += Executed_Inst\n",
    "#                 Total_Traffic_t += Total_Traffic\n",
    "                \n",
    "#                 Work_Achieved = Work_Achieved/(1000000000000)\n",
    "#                 Traffic_Achieved = Traffic_Achieved/(1000000000)\n",
    "                \n",
    "#                 SM_BUSY = kernel[\"sm__throughput.avg.pct_of_peak_sustained_elapsed\"].value()\n",
    "#                 MEM_BUSY = kernel[\"gpu__compute_memory_access_throughput.avg.pct_of_peak_sustained_elapsed\"].value()\n",
    "                \n",
    "#                 # print(f\"{nsys_range_name} {kernel.name()} {Executed_Inst:.1f} {Total_Traffic/(1000*1000):.2f} , {Execution_Time/1000000}\")\n",
    "#                 print(f\"{kernel.name()} {Execution_Time/1000:.1f} {Executed_Inst:.1E} {Total_Traffic/(1000*1000):.1f} {Work_Achieved:.1f} {Traffic_Achieved:.1f} {SM_BUSY:.1f} {MEM_BUSY:.1f}\")\n",
    "#                 # print(f\"{Execution_Time_t:.2E}\")\n",
    "#                 # print(f\"{Executed_Inst_t:.2E}\")\n",
    "#                 # print(f\"{Total_Traffic_t:.2E}\")"
   ]
  }
 ],
 "metadata": {
  "kernelspec": {
   "display_name": "sd_profile",
   "language": "python",
   "name": "python3"
  },
  "language_info": {
   "codemirror_mode": {
    "name": "ipython",
    "version": 3
   },
   "file_extension": ".py",
   "mimetype": "text/x-python",
   "name": "python",
   "nbconvert_exporter": "python",
   "pygments_lexer": "ipython3",
   "version": "3.11.3"
  },
  "orig_nbformat": 4
 },
 "nbformat": 4,
 "nbformat_minor": 2
}
